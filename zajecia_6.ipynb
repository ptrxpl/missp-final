{
  "nbformat": 4,
  "nbformat_minor": 0,
  "metadata": {
    "colab": {
      "name": "zajecia 6.ipynb",
      "provenance": [],
      "collapsed_sections": []
    },
    "kernelspec": {
      "name": "python3",
      "display_name": "Python 3"
    }
  },
  "cells": [
    {
      "cell_type": "markdown",
      "metadata": {
        "id": "ntD7rS6BH252"
      },
      "source": [
        "# **Pracownicy**\r\n",
        "\r\n",
        "Zadanie dot. rozdysponowania godzin pracowników w sklepie.\r\n",
        "\r\n",
        "![Pracownicy](https://raw.githubusercontent.com/ptrxpl/missp-final/main/misc/pracownicy.png)\r\n",
        "\r\n",
        "Należy uzupełnić kalendarz zmian tak, aby zminimalizować koszta firmy.\r\n",
        "\r\n",
        "\r\n",
        "# **Analiza zadania**\r\n",
        "1. Zmienne decyzyjne\r\n",
        "2. Funkcja celu\r\n",
        "3. Ograniczenia\r\n",
        "4. Rozwiązanie\r\n",
        "\r\n",
        "**Zmienne**\r\n",
        "\r\n",
        "Kto i kiedy jest dostępny?\r\n",
        "\r\n",
        "\r\n",
        "```\r\n",
        "tablica = LpVariable.dicts(\"\",((i, j) for i in dni_tygodnia for j in osoby),cat='Binary')\r\n",
        "```\r\n",
        "\r\n",
        "**Funkcja celu**\r\n",
        "\r\n",
        "Minimalizacja wypłaty \r\n",
        "\r\n",
        "\r\n",
        "```\r\n",
        "prob += lpSum(tablica[(i,j)] * stawki[j] for i in dni_tygodnia for j in osoby)\r\n",
        "```\r\n",
        "\r\n",
        "**Ograniczenia**\r\n",
        "\r\n",
        "Pracownik jest dostępny minimum raz a maksymalnie 3 razy w tygodniu:\r\n",
        "\r\n",
        "\r\n",
        "```\r\n",
        "for osoba in osoby:\r\n",
        "  prob += lpSum(tablica[(i,osoba)] for i in dni_tygodnia) <= 3\r\n",
        "  prob += lpSum(tablica[(i,osoba)] for i in dni_tygodnia) >= 1 \r\n",
        "```\r\n",
        "\r\n",
        "Pracownik pracuje tylko wtedy, kiedy jest dostępny:\r\n",
        "\r\n",
        "```\r\n",
        "for osoba in osoby:\r\n",
        "  prob += lpSum(tablica[(i,osoba)] for i in dni_tygodnia if i not in dostepne_dni_danej_osoby[osoba]) == 0\r\n",
        "```\r\n",
        "\r\n",
        "Zapotrzebowanie osób w konkretne dni:\r\n",
        "\r\n",
        "\r\n",
        "```\r\n",
        "for dzien in dni_tygodnia:\r\n",
        "  prob += lpSum(tablica[(dzien,i)] for i in osoby) == liczba_osob_danego_dnia[dzien]\r\n",
        "```\r\n",
        "\r\n",
        "**Rozwiązanie**\r\n",
        "\r\n",
        "Stworzono 2 wersje: bez oraz z wczytywania pliku csv (Excel).\r\n",
        "\r\n",
        "\r\n",
        "\r\n",
        "\r\n",
        "\r\n",
        "\r\n",
        "\r\n",
        "\r\n",
        "\r\n"
      ]
    },
    {
      "cell_type": "code",
      "metadata": {
        "colab": {
          "base_uri": "https://localhost:8080/"
        },
        "id": "TvRomIP-51oR",
        "outputId": "5fe68800-e0b4-49e8-a53b-cecaaadca16b"
      },
      "source": [
        "!pip install pulp\n",
        "\n",
        "!sudo apt-get install coinor-cbc glpk-utils coinor-clp\n",
        "\n",
        "# Link pomocniczy:\n",
        "# https://benalexkeen.com/linear-programming-with-python-and-pulp-part-4/"
      ],
      "execution_count": 2,
      "outputs": [
        {
          "output_type": "stream",
          "text": [
            "Requirement already satisfied: pulp in /usr/local/lib/python3.6/dist-packages (2.4)\n",
            "Requirement already satisfied: amply>=0.1.2 in /usr/local/lib/python3.6/dist-packages (from pulp) (0.1.4)\n",
            "Requirement already satisfied: docutils>=0.3 in /usr/local/lib/python3.6/dist-packages (from amply>=0.1.2->pulp) (0.16)\n",
            "Requirement already satisfied: pyparsing in /usr/local/lib/python3.6/dist-packages (from amply>=0.1.2->pulp) (2.4.7)\n",
            "Reading package lists... Done\n",
            "Building dependency tree       \n",
            "Reading state information... Done\n",
            "coinor-cbc is already the newest version (2.9.9+repack1-1).\n",
            "coinor-clp is already the newest version (1.16.11+repack1-1).\n",
            "glpk-utils is already the newest version (4.65-1).\n",
            "0 upgraded, 0 newly installed, 0 to remove and 15 not upgraded.\n"
          ],
          "name": "stdout"
        }
      ]
    },
    {
      "cell_type": "markdown",
      "metadata": {
        "id": "vweLG-7Owofh"
      },
      "source": [
        "**Poniżej wersja bez Excela:**"
      ]
    },
    {
      "cell_type": "code",
      "metadata": {
        "colab": {
          "base_uri": "https://localhost:8080/"
        },
        "id": "54aWB3zz5-At",
        "outputId": "7169a4d1-bf48-4103-cd8e-a5be1389f7f2"
      },
      "source": [
        "# Wersja BEZ excela\n",
        "\n",
        "from pulp import *\n",
        "\n",
        "prob = LpProblem(\"Pracownicy_bez_csv\", LpMinimize)\n",
        "\n",
        "# lista dni tygodnia\n",
        "dni_tygodnia = ['Poniedziałek', 'Wtorek', 'Środa', 'Czwartek', 'Piątek']\n",
        "osoby = ['Ania', 'Stefan', 'Hektor', 'Olaf', 'Lidia', 'Piotr']\n",
        "liczba_osob_danego_dnia = {'Poniedziałek': 2, \n",
        "               'Wtorek': 1, \n",
        "               'Środa': 1, \n",
        "               'Czwartek': 1, \n",
        "               'Piątek': 3}\n",
        "dostepne_dni_danej_osoby = {'Ania': ['Poniedziałek', 'Wtorek', 'Środa', 'Czwartek', 'Piątek'],\n",
        "               'Stefan': ['Poniedziałek'],\n",
        "               'Hektor': ['Poniedziałek', 'Wtorek', 'Środa'],\n",
        "               'Olaf': ['Poniedziałek', 'Wtorek', 'Środa', 'Czwartek', 'Piątek'],\n",
        "               'Lidia': ['Czwartek', 'Piątek'],\n",
        "               'Piotr': ['Poniedziałek', 'Wtorek', 'Środa']}\n",
        "stawki = {'Ania':100,'Stefan':50,'Hektor':60,'Olaf':40,'Lidia':11,'Piotr':70}\n",
        "\n",
        "# A dictionary called 'dni_tygodnia' is created to contain the referenced Variables\n",
        "tablica = LpVariable.dicts(\"\",((i, j) for i in dni_tygodnia for j in osoby),cat='Binary')\n",
        "\n",
        "prob += lpSum(tablica[(i,j)] * stawki[j] for i in dni_tygodnia for j in osoby)\n",
        "for dzien in dni_tygodnia:\n",
        "  prob += lpSum(tablica[(dzien,i)] for i in osoby) == liczba_osob_danego_dnia[dzien]\n",
        "for osoba in osoby:\n",
        "  prob += lpSum(tablica[(i,osoba)] for i in dni_tygodnia) <= 3\n",
        "  prob += lpSum(tablica[(i,osoba)] for i in dni_tygodnia) >= 1 \n",
        "for osoba in osoby:\n",
        "  prob += lpSum(tablica[(i,osoba)] for i in dni_tygodnia if i not in dostepne_dni_danej_osoby[osoba]) == 0\n",
        "\n",
        "# The problem is solved using PuLP's choice of Solver\n",
        "prob.solve()\n",
        "\n",
        "# The optimised objective function value is printed to the screen    \n",
        "print (\"Firmę będzie to kosztować w tygodniu = \", value(prob.objective),\"zł\")\n",
        "print(\"Plan na tydzień dla poszczególnych osób\")\n",
        "# Each of the variables is printed with it's resolved optimum value\n",
        "for v in prob.variables():\n",
        "    print (v.name, \"=\", v.varValue)\n"
      ],
      "execution_count": 3,
      "outputs": [
        {
          "output_type": "stream",
          "text": [
            "Firmę będzie to kosztować w tygodniu =  382.0 zł\n",
            "Plan na tydzień dla poszczególnych osób\n",
            "_('Czwartek',_'Ania') = 0.0\n",
            "_('Czwartek',_'Hektor') = 0.0\n",
            "_('Czwartek',_'Lidia') = 1.0\n",
            "_('Czwartek',_'Olaf') = 0.0\n",
            "_('Czwartek',_'Piotr') = 0.0\n",
            "_('Czwartek',_'Stefan') = 0.0\n",
            "_('Piątek',_'Ania') = 1.0\n",
            "_('Piątek',_'Hektor') = 0.0\n",
            "_('Piątek',_'Lidia') = 1.0\n",
            "_('Piątek',_'Olaf') = 1.0\n",
            "_('Piątek',_'Piotr') = 0.0\n",
            "_('Piątek',_'Stefan') = 0.0\n",
            "_('Poniedziałek',_'Ania') = 0.0\n",
            "_('Poniedziałek',_'Hektor') = 0.0\n",
            "_('Poniedziałek',_'Lidia') = 0.0\n",
            "_('Poniedziałek',_'Olaf') = 1.0\n",
            "_('Poniedziałek',_'Piotr') = 0.0\n",
            "_('Poniedziałek',_'Stefan') = 1.0\n",
            "_('Wtorek',_'Ania') = 0.0\n",
            "_('Wtorek',_'Hektor') = 1.0\n",
            "_('Wtorek',_'Lidia') = 0.0\n",
            "_('Wtorek',_'Olaf') = 0.0\n",
            "_('Wtorek',_'Piotr') = 0.0\n",
            "_('Wtorek',_'Stefan') = 0.0\n",
            "_('Środa',_'Ania') = 0.0\n",
            "_('Środa',_'Hektor') = 0.0\n",
            "_('Środa',_'Lidia') = 0.0\n",
            "_('Środa',_'Olaf') = 0.0\n",
            "_('Środa',_'Piotr') = 1.0\n",
            "_('Środa',_'Stefan') = 0.0\n"
          ],
          "name": "stdout"
        }
      ]
    },
    {
      "cell_type": "markdown",
      "metadata": {
        "id": "sqWZJP5kwxR4"
      },
      "source": [
        "**Poniżej wersja z Excelem:**"
      ]
    },
    {
      "cell_type": "code",
      "metadata": {
        "colab": {
          "base_uri": "https://localhost:8080/"
        },
        "id": "xOJlsZ9M_uy8",
        "outputId": "588582ed-3570-495f-a823-85046ba7bd01"
      },
      "source": [
        "# Wersja z excelem\n",
        "\n",
        "import pandas as pd\n",
        "from pulp import *\n",
        "\n",
        "dane = pd.read_csv('https://raw.githubusercontent.com/ptrxpl/missp-final/main/misc/pracownicy.csv', sep=';',index_col = 'Imiona')\n",
        "dane_dni_tygodnia = pd.DataFrame(dane, columns = ['Poniedzialek', 'Wtorek', 'Sroda', 'Czwartek', 'Piatek'])\n",
        "dane_kwota = pd.DataFrame(dane, columns = ['kwota/h'])\n",
        "dane_liczba_osob_danego_dnia = dane.loc[['liczba osob danego dnia'],['Poniedzialek', 'Wtorek', 'Sroda', 'Czwartek', 'Piatek']]\n",
        "dane_dni_tygodnia = dane_dni_tygodnia.drop('liczba osob danego dnia')\n",
        "\n",
        "prob = LpProblem(\"Pracownicy_z_csv\", LpMinimize)\n",
        "tablica = LpVariable.dicts(\"\",((dzien, osoba) for dzien in dane_dni_tygodnia.columns for osoba in dane_dni_tygodnia.index),cat='Binary')\n",
        "#print(int(dane_liczba_osob_danego_dnia.loc['liczba osob danego dnia','Poniedzialek']))\n",
        "\n",
        "prob += lpSum(tablica[(i,j)] * int(dane_kwota.loc[j,'kwota/h']) for i in dane_dni_tygodnia.columns for j in dane_dni_tygodnia.index)\n",
        "for dzien in dane_dni_tygodnia.columns:\n",
        "    prob += lpSum(tablica[(dzien,osoba)] for osoba in dane_dni_tygodnia.index) == int(dane_liczba_osob_danego_dnia.loc['liczba osob danego dnia',dzien])\n",
        "for osoba in dane_dni_tygodnia.index:\n",
        "    prob += lpSum(tablica[(i,osoba)] for i in dane_dni_tygodnia.columns) <= 3\n",
        "    prob += lpSum(tablica[(i,osoba)] for i in dane_dni_tygodnia.columns) >= 1 \n",
        "for osoba in dane_dni_tygodnia.index:\n",
        "    prob += lpSum(tablica[(i,osoba)] for i in dane_dni_tygodnia.columns if dane_dni_tygodnia.loc[osoba,i] == 0) == 0\n",
        "\n",
        "# The problem is solved using PuLP's choice of Solver\n",
        "prob.solve()\n",
        "    \n",
        "output = []    \n",
        "for osoba in dane_dni_tygodnia.index:\n",
        "    var_output = {\n",
        "        'Imiona': osoba,\n",
        "        'Poniedzialek': tablica[('Poniedzialek',osoba)].varValue,\n",
        "        'Wtorek': tablica[('Wtorek',osoba)].varValue,\n",
        "        'Sroda': tablica[('Sroda',osoba)].varValue,\n",
        "        'Czwartek': tablica[('Czwartek',osoba)].varValue,\n",
        "        'Piatek': tablica[('Piatek',osoba)].varValue\n",
        "    }\n",
        "    output.append(var_output)\n",
        "print(output)\n",
        "\n",
        "# Na Anakondzie można by zaimportować to do osobnego Excela.\n",
        "#output_csv = pd.DataFrame(output)\n",
        "#output_csv.to_csv('pracownicy_gotowe.csv',sep=';',index = False, header=True)"
      ],
      "execution_count": 7,
      "outputs": [
        {
          "output_type": "stream",
          "text": [
            "[{'Imiona': 'Ania', 'Poniedzialek': 0.0, 'Wtorek': 0.0, 'Sroda': 0.0, 'Czwartek': 0.0, 'Piatek': 1.0}, {'Imiona': 'Stefan', 'Poniedzialek': 1.0, 'Wtorek': 0.0, 'Sroda': 0.0, 'Czwartek': 0.0, 'Piatek': 0.0}, {'Imiona': 'Hektor', 'Poniedzialek': 0.0, 'Wtorek': 1.0, 'Sroda': 0.0, 'Czwartek': 0.0, 'Piatek': 0.0}, {'Imiona': 'Olaf', 'Poniedzialek': 1.0, 'Wtorek': 0.0, 'Sroda': 0.0, 'Czwartek': 0.0, 'Piatek': 1.0}, {'Imiona': 'Lidia', 'Poniedzialek': 0.0, 'Wtorek': 0.0, 'Sroda': 0.0, 'Czwartek': 1.0, 'Piatek': 1.0}, {'Imiona': 'Piotr', 'Poniedzialek': 0.0, 'Wtorek': 0.0, 'Sroda': 1.0, 'Czwartek': 0.0, 'Piatek': 0.0}]\n"
          ],
          "name": "stdout"
        }
      ]
    }
  ]
}