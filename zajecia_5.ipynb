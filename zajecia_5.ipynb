{
  "nbformat": 4,
  "nbformat_minor": 0,
  "metadata": {
    "colab": {
      "name": "zajecia_5.ipynb",
      "provenance": []
    },
    "kernelspec": {
      "name": "python3",
      "display_name": "Python 3"
    }
  },
  "cells": [
    {
      "cell_type": "markdown",
      "metadata": {
        "id": "FbIaXKxS_lwr"
      },
      "source": [
        "#**Rezystory**\r\n",
        "\r\n",
        "Dwa zadania, rozwiązać za pomocą pulp'a. Dokładniejszy opis przy danym przykładzie."
      ]
    },
    {
      "cell_type": "code",
      "metadata": {
        "id": "XxNq5FiZD4y8",
        "colab": {
          "base_uri": "https://localhost:8080/"
        },
        "outputId": "4fff7a46-df0a-4d5c-82f0-2801b1e2f988"
      },
      "source": [
        "!pip install pulp\n",
        "\n",
        "!sudo apt-get install coinor-cbc glpk-utils coinor-clp"
      ],
      "execution_count": 2,
      "outputs": [
        {
          "output_type": "stream",
          "text": [
            "Requirement already satisfied: pulp in /usr/local/lib/python3.6/dist-packages (2.4)\n",
            "Requirement already satisfied: amply>=0.1.2 in /usr/local/lib/python3.6/dist-packages (from pulp) (0.1.4)\n",
            "Requirement already satisfied: docutils>=0.3 in /usr/local/lib/python3.6/dist-packages (from amply>=0.1.2->pulp) (0.16)\n",
            "Requirement already satisfied: pyparsing in /usr/local/lib/python3.6/dist-packages (from amply>=0.1.2->pulp) (2.4.7)\n",
            "Reading package lists... Done\n",
            "Building dependency tree       \n",
            "Reading state information... Done\n",
            "coinor-cbc is already the newest version (2.9.9+repack1-1).\n",
            "coinor-clp is already the newest version (1.16.11+repack1-1).\n",
            "glpk-utils is already the newest version (4.65-1).\n",
            "0 upgraded, 0 newly installed, 0 to remove and 14 not upgraded.\n"
          ],
          "name": "stdout"
        }
      ]
    },
    {
      "cell_type": "markdown",
      "metadata": {
        "id": "UH3ZBwvvAYyo"
      },
      "source": [
        "#**Rezystor - zadanie 1**\r\n",
        "\r\n",
        "![Rezystory - zadanie 1](https://raw.githubusercontent.com/ptrxpl/missp-final/main/misc/rezystory1.png)\r\n",
        "\r\n",
        "Znaleźć minimalną moc rozproszoną na rezystorach (na mostku)."
      ]
    },
    {
      "cell_type": "code",
      "metadata": {
        "id": "V4P1JAdDEZa5",
        "colab": {
          "base_uri": "https://localhost:8080/"
        },
        "outputId": "a8a5c775-85aa-4847-ae90-bbc0c50ab328"
      },
      "source": [
        "\"\"\"\n",
        "Ii* - delta(i) <= Ii <= Ii* + delta(i)\n",
        "\n",
        "i =               1  | 2  | 3  | 4  | 5\n",
        "ui [V] =          6  | 10 | 4  | 7  | 3\n",
        "Ii* [mA]=         4  | 2  | 2  | 2  | 4\n",
        "delta(i) [mA] =   1  | 1  | 1  | 1  | 1\n",
        "\n",
        "np. dla i = 2\n",
        "2-1 <= 2 <= 2+1\n",
        "1 <= 2 <= 3\n",
        "\n",
        "Zadanie: znaleźć minimalna moc rozpraszaną na rezystorach (na mostku)(?).\n",
        "\n",
        "PRAWO KIRCHHOFFA dla prądu:\n",
        "I = I1 + I2\n",
        "I1 = I3 + I4\n",
        "I5 = I3 + I2\n",
        "I = I4 + I5\n",
        "\n",
        "PRAWO KIRCHHOFFA dla napięcia:\n",
        "-U3 + U2 - U1 = 0 // -4 + 10 - 6 = 0 // zgadza się\n",
        "U5 + U3 - U4 = 0 // 3 + 4 - 7 = 0 // zgadza się\n",
        "\"\"\"\n",
        "\n",
        "from pulp import *\n",
        "\n",
        "prob = LpProblem(\"Obwod1\", LpMinimize)\n",
        "\n",
        "# prąd z ograniczeniem +/- delta\n",
        "i1 = LpVariable(\"i1\",3,5) \n",
        "i2 = LpVariable(\"i2\",1,3)\n",
        "i3 = LpVariable(\"i3\",1,3)\n",
        "i4 = LpVariable(\"i4\",1,3)\n",
        "i5 = LpVariable(\"i5\",3,5)\n",
        "\n",
        "# Ogranizenia\n",
        "prob+=6.0*i1 + 10.0*i2 + 4.0*i3 + 7.0*i4 + 3.0*i5 #moc łącznie zsumowana\n",
        "prob+=i3+i4==i1 #prądowe\n",
        "prob+=i2+i3==i5 #prądowe\n",
        "prob+=i1+i2==i4+i5 #prądowe\n",
        "\n",
        "prob.solve()\n",
        "\n",
        "# przeliczanie na rezystancję\n",
        "r1=6.0/value(i1) \n",
        "r2=10.0/value(i2)\n",
        "r3=4.0/value(i3)\n",
        "r4=7.0/value(i4)\n",
        "r5=3.0/value(i5)\n",
        "\n",
        "# Each of the variables is printed with it's resolved optimum value\n",
        "for v in prob.variables():\n",
        "  print (v.name, \"=\", v.varValue,\"mA\")\n",
        "\n",
        "print(\"Wartości rezystancji to:\")\n",
        "print(\"R1=\",r1, \"kOhm\")\n",
        "print(\"R2=\",r2, \"kOhm\")\n",
        "print(\"R3=\",r3, \"kOhm\")\n",
        "print(\"R4=\",r4, \"kOhm\")\n",
        "print(\"R5=\",r5, \"kOhm\")\n",
        "\n",
        "# The optimised objective function value is printed to the screen\n",
        "print (\"Minimalna moc to: \", value(prob.objective),\"mV\")"
      ],
      "execution_count": 4,
      "outputs": [
        {
          "output_type": "stream",
          "text": [
            "i1 = 3.0 mA\n",
            "i2 = 1.0 mA\n",
            "i3 = 2.0 mA\n",
            "i4 = 1.0 mA\n",
            "i5 = 3.0 mA\n",
            "Wartości rezystancji to:\n",
            "R1= 2.0 kOhm\n",
            "R2= 10.0 kOhm\n",
            "R3= 2.0 kOhm\n",
            "R4= 7.0 kOhm\n",
            "R5= 1.0 kOhm\n",
            "Minimalna moc to:  52.0 mV\n"
          ],
          "name": "stdout"
        }
      ]
    },
    {
      "cell_type": "markdown",
      "metadata": {
        "id": "0o8m68AcCotr"
      },
      "source": [
        "#**Rezystory - zadanie 2**\r\n",
        "\r\n",
        "![Rezystory - zadanie 2](https://raw.githubusercontent.com/ptrxpl/missp-final/main/misc/rezystory2.png)\r\n",
        "\r\n",
        "Znaleźć maksymalny prąd który może płynąć przez układ (max prąd I3)."
      ]
    },
    {
      "cell_type": "code",
      "metadata": {
        "id": "pZswTB7llumb",
        "colab": {
          "base_uri": "https://localhost:8080/"
        },
        "outputId": "5dc47e9a-0e33-46cb-f442-64e222f82725"
      },
      "source": [
        "from pulp import *\n",
        "\n",
        "prob = LpProblem(\"Obwod2\", LpMaximize)\n",
        "\n",
        "i1 = LpVariable(\"i1\",0,2)\n",
        "i2 = LpVariable(\"i2\",0,3)\n",
        "i3 = LpVariable(\"i3\",0,4)\n",
        "i4 = LpVariable(\"i4\",0,2)\n",
        "i5 = LpVariable(\"i5\",0,2)\n",
        "\n",
        "prob+=i3 #max prąd\n",
        "prob+=8.0*i1==6.0*i2 # U rownolegle\n",
        "prob+=10.0*i4==8.0*i5 # U rownolegle\n",
        "prob+=i1+i2==i3 #prądowe prawo kirchhoffa\n",
        "prob+=i4+i5==i3 #prądowe prawo kirchhoffa\n",
        "\n",
        "prob.solve()\n",
        "\n",
        "for v in prob.variables():\n",
        "  print (v.name, \"=\", v.varValue,\"A\")\n"
      ],
      "execution_count": 6,
      "outputs": [
        {
          "output_type": "stream",
          "text": [
            "i1 = 1.5428571 A\n",
            "i2 = 2.0571429 A\n",
            "i3 = 3.6 A\n",
            "i4 = 1.6 A\n",
            "i5 = 2.0 A\n"
          ],
          "name": "stdout"
        }
      ]
    }
  ]
}