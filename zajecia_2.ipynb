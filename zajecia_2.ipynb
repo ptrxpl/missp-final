{
  "nbformat": 4,
  "nbformat_minor": 0,
  "metadata": {
    "kernelspec": {
      "display_name": "Python 3",
      "language": "python",
      "name": "python3"
    },
    "language_info": {
      "codemirror_mode": {
        "name": "ipython",
        "version": 3
      },
      "file_extension": ".py",
      "mimetype": "text/x-python",
      "name": "python",
      "nbconvert_exporter": "python",
      "pygments_lexer": "ipython3",
      "version": "3.7.3"
    },
    "colab": {
      "name": "zajecia 2.ipynb",
      "provenance": [],
      "collapsed_sections": []
    }
  },
  "cells": [
    {
      "cell_type": "code",
      "metadata": {
        "id": "NrM922UiK5rc"
      },
      "source": [
        "import numpy as np"
      ],
      "execution_count": null,
      "outputs": []
    },
    {
      "cell_type": "code",
      "metadata": {
        "id": "DjELMeXaK5rm"
      },
      "source": [
        "a_list= [1,2,3,4,5, [1,2,3], \"temat\"] # nie idealna lista\n",
        "k_krotka = (1,2,3,4,5, [1,2,3], \"temat\")\n",
        "b_list = [1,2,3,4,5]\n",
        "n_array = np.array(b_list) # wektor numpy\n"
      ],
      "execution_count": null,
      "outputs": []
    },
    {
      "cell_type": "code",
      "metadata": {
        "id": "pJTFvHqaK5rx",
        "colab": {
          "base_uri": "https://localhost:8080/",
          "height": 34
        },
        "outputId": "c04e6586-5bd9-4d4d-9a8b-1392dac0d5b4"
      },
      "source": [
        "a_list+b_list #dopisuje na końcu listy znowu 1,2,3,4,5\n",
        "n_array+n_array #dodaje do siebie wektory (1+1, 2+2, 3+3 itd.)"
      ],
      "execution_count": null,
      "outputs": [
        {
          "output_type": "execute_result",
          "data": {
            "text/plain": [
              "array([ 2,  4,  6,  8, 10])"
            ]
          },
          "metadata": {
            "tags": []
          },
          "execution_count": 5
        }
      ]
    },
    {
      "cell_type": "code",
      "metadata": {
        "id": "Zy8lxp6rK5sA",
        "colab": {
          "base_uri": "https://localhost:8080/",
          "height": 34
        },
        "outputId": "98946385-b602-4e56-f81e-5ea8c20f52e2"
      },
      "source": [
        "a_list[5] #0 - 1; 2 - 2... 5 - [1,2,3]"
      ],
      "execution_count": null,
      "outputs": [
        {
          "output_type": "execute_result",
          "data": {
            "text/plain": [
              "[1, 2, 3]"
            ]
          },
          "metadata": {
            "tags": []
          },
          "execution_count": 8
        }
      ]
    },
    {
      "cell_type": "code",
      "metadata": {
        "id": "OqAohDYyK5sJ",
        "colab": {
          "base_uri": "https://localhost:8080/",
          "height": 34
        },
        "outputId": "f04d825d-4def-4c86-c88a-a878ae98af12"
      },
      "source": [
        "a_list.append(100) #dodaje na końcu listy\n",
        "print(a_list)"
      ],
      "execution_count": null,
      "outputs": [
        {
          "output_type": "stream",
          "text": [
            "[1, 2, 3, 4, 5, [1, 2, 3], 'temat', 100]\n"
          ],
          "name": "stdout"
        }
      ]
    },
    {
      "cell_type": "code",
      "metadata": {
        "id": "TAh1b_9tK5sS",
        "colab": {
          "base_uri": "https://localhost:8080/",
          "height": 34
        },
        "outputId": "2b9c2de6-87d9-43e3-cded-dc3d7f09e78b"
      },
      "source": [
        "k_krotka[5] #tak samo jak a_list[5]"
      ],
      "execution_count": null,
      "outputs": [
        {
          "output_type": "execute_result",
          "data": {
            "text/plain": [
              "[1, 2, 3]"
            ]
          },
          "metadata": {
            "tags": []
          },
          "execution_count": 5
        }
      ]
    },
    {
      "cell_type": "code",
      "metadata": {
        "id": "rc53ElacK5sa",
        "colab": {
          "base_uri": "https://localhost:8080/",
          "height": 167
        },
        "outputId": "82a7b54d-1d40-4f95-a5ee-d51db3d37dfc"
      },
      "source": [
        "k_krotka.append(100) #do krotki nie mozna dodawac, tzn nie tak prosto"
      ],
      "execution_count": null,
      "outputs": [
        {
          "output_type": "error",
          "ename": "AttributeError",
          "evalue": "ignored",
          "traceback": [
            "\u001b[0;31m---------------------------------------------------------------------------\u001b[0m",
            "\u001b[0;31mAttributeError\u001b[0m                            Traceback (most recent call last)",
            "\u001b[0;32m<ipython-input-6-4da2f0146474>\u001b[0m in \u001b[0;36m<module>\u001b[0;34m()\u001b[0m\n\u001b[0;32m----> 1\u001b[0;31m \u001b[0mk_krotka\u001b[0m\u001b[0;34m.\u001b[0m\u001b[0mappend\u001b[0m\u001b[0;34m(\u001b[0m\u001b[0;36m100\u001b[0m\u001b[0;34m)\u001b[0m\u001b[0;34m\u001b[0m\u001b[0;34m\u001b[0m\u001b[0m\n\u001b[0m",
            "\u001b[0;31mAttributeError\u001b[0m: 'tuple' object has no attribute 'append'"
          ]
        }
      ]
    },
    {
      "cell_type": "code",
      "metadata": {
        "id": "5V5JwzI8K5sm",
        "outputId": "8c536836-6af5-4fe2-a4da-0d4f43cd26cc"
      },
      "source": [
        "np.array(b_list)+np.array(b_list) #np - numpy, zreszta ten przyklad juz byl"
      ],
      "execution_count": null,
      "outputs": [
        {
          "output_type": "execute_result",
          "data": {
            "text/plain": [
              "array([ 2,  4,  6,  8, 10])"
            ]
          },
          "metadata": {
            "tags": []
          },
          "execution_count": 8
        }
      ]
    },
    {
      "cell_type": "code",
      "metadata": {
        "id": "ASKHeacsK5s3"
      },
      "source": [
        "n_array = np.array(a_list) # wektor numpy"
      ],
      "execution_count": null,
      "outputs": []
    },
    {
      "cell_type": "code",
      "metadata": {
        "id": "j0w2DAAeK5s-",
        "colab": {
          "base_uri": "https://localhost:8080/",
          "height": 34
        },
        "outputId": "8019c073-3cbd-4844-fe21-723874f47d8c"
      },
      "source": [
        "n_array"
      ],
      "execution_count": null,
      "outputs": [
        {
          "output_type": "execute_result",
          "data": {
            "text/plain": [
              "array([1, 2, 3, 4, 5, list([1, 2, 3]), 'temat'], dtype=object)"
            ]
          },
          "metadata": {
            "tags": []
          },
          "execution_count": 8
        }
      ]
    },
    {
      "cell_type": "code",
      "metadata": {
        "id": "IuVjReLhK5tG"
      },
      "source": [
        "#### Nowosci\n",
        "\n",
        "studenci_slownik = {123: 123,\"Igor\":3, \"Frankek\":5, \"Zosia\":22,\"Julia\":[2,21], (1,2):\"Krotka\"} #klucz:wartość"
      ],
      "execution_count": null,
      "outputs": []
    },
    {
      "cell_type": "code",
      "metadata": {
        "id": "C9tn0guQK5tM",
        "colab": {
          "base_uri": "https://localhost:8080/",
          "height": 34
        },
        "outputId": "19b26e51-9036-4bd1-97e7-63429d1395c9"
      },
      "source": [
        "print(studenci_slownik)"
      ],
      "execution_count": null,
      "outputs": [
        {
          "output_type": "stream",
          "text": [
            "{123: 123, 'Igor': 3, 'Frankek': 5, 'Zosia': 22, 'Julia': [2, 21], (1, 2): 'Krotka'}\n"
          ],
          "name": "stdout"
        }
      ]
    },
    {
      "cell_type": "code",
      "metadata": {
        "id": "3ZAJpQ0pK5tU",
        "outputId": "b909c04e-76d0-4867-f91a-b13503dc42e3"
      },
      "source": [
        "studenci_slownik[\"Zosia\"] #dla klucza Zosia jest wartość 22"
      ],
      "execution_count": null,
      "outputs": [
        {
          "output_type": "execute_result",
          "data": {
            "text/plain": [
              "22"
            ]
          },
          "metadata": {
            "tags": []
          },
          "execution_count": 21
        }
      ]
    },
    {
      "cell_type": "code",
      "metadata": {
        "id": "qqDge4CaK5tc",
        "colab": {
          "base_uri": "https://localhost:8080/",
          "height": 246
        },
        "outputId": "038ce7df-d436-4997-e3ab-1810bcd9668d"
      },
      "source": [
        "for elementy in studenci_slownik: #klucze\n",
        "    print(elementy)\n",
        "\n",
        "print(\"*\"*20)\n",
        "for elementy in studenci_slownik.keys(): #klucze\n",
        "    print(elementy)"
      ],
      "execution_count": null,
      "outputs": [
        {
          "output_type": "stream",
          "text": [
            "123\n",
            "Igor\n",
            "Frankek\n",
            "Zosia\n",
            "Julia\n",
            "(1, 2)\n",
            "********************\n",
            "123\n",
            "Igor\n",
            "Frankek\n",
            "Zosia\n",
            "Julia\n",
            "(1, 2)\n"
          ],
          "name": "stdout"
        }
      ]
    },
    {
      "cell_type": "code",
      "metadata": {
        "id": "RYrjqGQoK5tn",
        "colab": {
          "base_uri": "https://localhost:8080/",
          "height": 122
        },
        "outputId": "aae16172-6ce0-4541-afee-81c85817716e"
      },
      "source": [
        "for elementy in studenci_slownik.items(): #krotki - pary klucz:wartość \n",
        "    print(elementy)"
      ],
      "execution_count": null,
      "outputs": [
        {
          "output_type": "stream",
          "text": [
            "(123, 123)\n",
            "('Igor', 3)\n",
            "('Frankek', 5)\n",
            "('Zosia', 22)\n",
            "('Julia', [2, 21])\n",
            "((1, 2), 'Krotka')\n"
          ],
          "name": "stdout"
        }
      ]
    },
    {
      "cell_type": "code",
      "metadata": {
        "id": "hWOAm3hyK5tu",
        "colab": {
          "base_uri": "https://localhost:8080/",
          "height": 122
        },
        "outputId": "d3a76e9c-a951-437f-8ad2-71e7a92c811f"
      },
      "source": [
        "for elementy in studenci_slownik.values(): #wartości \n",
        "    print(elementy)"
      ],
      "execution_count": null,
      "outputs": [
        {
          "output_type": "stream",
          "text": [
            "123\n",
            "3\n",
            "5\n",
            "22\n",
            "[2, 21]\n",
            "Krotka\n"
          ],
          "name": "stdout"
        }
      ]
    },
    {
      "cell_type": "code",
      "metadata": {
        "id": "Zj_iM7acK5t1"
      },
      "source": [
        "studenci_slownik[\"Cuthulu\"]= -1000000 #dodano do slownika"
      ],
      "execution_count": null,
      "outputs": []
    },
    {
      "cell_type": "code",
      "metadata": {
        "id": "J9RnhJTZK5t8",
        "colab": {
          "base_uri": "https://localhost:8080/",
          "height": 140
        },
        "outputId": "c20de83b-83f9-4ba6-f39f-3db243bf54a8"
      },
      "source": [
        "studenci_slownik #slownik zachowuje to w kolejnosci alfabetycznej"
      ],
      "execution_count": null,
      "outputs": [
        {
          "output_type": "execute_result",
          "data": {
            "text/plain": [
              "{(1, 2): 'Krotka',\n",
              " 123: 123,\n",
              " 'Cuthulu': -1000000,\n",
              " 'Frankek': 5,\n",
              " 'Igor': 3,\n",
              " 'Julia': [2, 21],\n",
              " 'Zosia': 22}"
            ]
          },
          "metadata": {
            "tags": []
          },
          "execution_count": 9
        }
      ]
    },
    {
      "cell_type": "code",
      "metadata": {
        "id": "2nTjQhrnK5uE",
        "colab": {
          "base_uri": "https://localhost:8080/",
          "height": 34
        },
        "outputId": "4a842390-0360-4d19-b9be-627b0ff702e6"
      },
      "source": [
        "automatyczna_lista  =[liczba**2 for liczba in range(100) if liczba%4==0] #do kwadratu wszystkie liczby z zakresu 0-100 jeżeli te bazowe liczby są podzielne przez 4\n",
        "print(automatyczna_lista)"
      ],
      "execution_count": null,
      "outputs": [
        {
          "output_type": "stream",
          "text": [
            "[0, 16, 64, 144, 256, 400, 576, 784, 1024, 1296, 1600, 1936, 2304, 2704, 3136, 3600, 4096, 4624, 5184, 5776, 6400, 7056, 7744, 8464, 9216]\n"
          ],
          "name": "stdout"
        }
      ]
    },
    {
      "cell_type": "code",
      "metadata": {
        "id": "RVY_VrNmK5uM",
        "colab": {
          "base_uri": "https://localhost:8080/",
          "height": 34
        },
        "outputId": "a4bee667-4a82-4842-dba7-b49825cfc661"
      },
      "source": [
        "studenci = studenci_slownik.keys()\n",
        "automatyczny_slownik=dict(para for para in enumerate(studenci))\n",
        "print(automatyczny_slownik) #slownik z kluczy z starego slownika "
      ],
      "execution_count": null,
      "outputs": [
        {
          "output_type": "stream",
          "text": [
            "{0: 123, 1: 'Igor', 2: 'Frankek', 3: 'Zosia', 4: 'Julia', 5: (1, 2), 6: 'Cuthulu'}\n"
          ],
          "name": "stdout"
        }
      ]
    },
    {
      "cell_type": "code",
      "metadata": {
        "id": "60OIkSkkK5uT"
      },
      "source": [
        "##### zbiory\n",
        "\n",
        "a={1,2,3,\"Franek\"}\n",
        "b={2,3,4,\"Franek\"}\n"
      ],
      "execution_count": null,
      "outputs": []
    },
    {
      "cell_type": "code",
      "metadata": {
        "id": "Qtfff1-LK5ub",
        "colab": {
          "base_uri": "https://localhost:8080/",
          "height": 34
        },
        "outputId": "e5d14031-f7e0-4fed-c128-23388614fab0"
      },
      "source": [
        "a|b #suma zbiorów, sum of sets"
      ],
      "execution_count": null,
      "outputs": [
        {
          "output_type": "execute_result",
          "data": {
            "text/plain": [
              "{1, 2, 3, 4, 'Franek'}"
            ]
          },
          "metadata": {
            "tags": []
          },
          "execution_count": 14
        }
      ]
    },
    {
      "cell_type": "code",
      "metadata": {
        "id": "L57hZy_OK5ui",
        "colab": {
          "base_uri": "https://localhost:8080/",
          "height": 34
        },
        "outputId": "dd756566-b41b-4bac-f97c-e956a6d178e3"
      },
      "source": [
        "a.add(\"Franek\")\n",
        "print(a)"
      ],
      "execution_count": null,
      "outputs": [
        {
          "output_type": "stream",
          "text": [
            "{'Franek', 1, 2, 3}\n"
          ],
          "name": "stdout"
        }
      ]
    },
    {
      "cell_type": "code",
      "metadata": {
        "id": "kbgx6a_nK5up",
        "colab": {
          "base_uri": "https://localhost:8080/",
          "height": 34
        },
        "outputId": "7bf42d3f-c563-4fa7-b240-c3d2e6283e9f"
      },
      "source": [
        "1 in a\n",
        "\"Igor\" in studenci_slownik"
      ],
      "execution_count": null,
      "outputs": [
        {
          "output_type": "execute_result",
          "data": {
            "text/plain": [
              "True"
            ]
          },
          "metadata": {
            "tags": []
          },
          "execution_count": 16
        }
      ]
    },
    {
      "cell_type": "markdown",
      "metadata": {
        "id": "aDRfcKtkK5uz"
      },
      "source": [
        "### Własne typy"
      ]
    },
    {
      "cell_type": "code",
      "metadata": {
        "id": "sCxrdMFjK5u0"
      },
      "source": [
        "zajecia = [[\"wf\"],\n",
        "           [\"informatyka\", \"nauka czytania\"],\n",
        "           [\"relax\", \"jedzenie\"],\n",
        "           [\"mispy\",\"mispy w domu\"],\n",
        "           [\"piateczek\", \"praca domowa z mispow\", \"Ilovemispy\", \"mispy w czasie snu\"]\n",
        "          ]\n",
        "\n",
        "dnityg= [\"Pon\",\"Wto\",\"Sro\",\"Czwar\",\"Pio\"]\n",
        "\n",
        "def dodaj_dwie_liczby(liczba1,liczba2):\n",
        "    return liczba1+liczba2"
      ],
      "execution_count": null,
      "outputs": []
    },
    {
      "cell_type": "code",
      "metadata": {
        "id": "DqNhKJjHK5u8"
      },
      "source": [
        "class DzienZajec():\n",
        "    \"\"\"obiekt trzymający dany dzień zajęć i przypisane mu metody\"\"\"\n",
        "    \n",
        "    \n",
        "    def __init__(self, lista_na_dany_dzien, nazwa_dnia): #definicja\n",
        "        self.lista_zajec= lista_na_dany_dzien\n",
        "        self.dzien = nazwa_dnia\n",
        "        \n",
        "\n",
        "    \n",
        "    def ile_mispow(self):\n",
        "        ile_m = sum([1 for zajecie in self.lista_zajec if \"misp\" in zajecie.lower()])\n",
        "        return ile_m\n",
        "\n",
        "    @property #zamienia na wlasciwosc   \n",
        "    def ile_zajec(self):\n",
        "        return len(self.lista_zajec)\n",
        "    \n",
        "    def __repr__(self):\n",
        "        zajecia_do_stringa = \", \".join(self.lista_zajec)\n",
        "        return \"W dzien {} mam zajecia: {}\".format(self.dzien, zajecia_do_stringa)\n",
        "    "
      ],
      "execution_count": null,
      "outputs": []
    },
    {
      "cell_type": "code",
      "metadata": {
        "id": "DXPM-dTqK5vb"
      },
      "source": [
        "pio_zajecia = DzienZajec([\"piateczek\", \"praca domowa z mispow\", \"Ilovemispy\", \"mispy w czasie snu\"],\n",
        "                        \"piatek\")"
      ],
      "execution_count": null,
      "outputs": []
    },
    {
      "cell_type": "code",
      "metadata": {
        "id": "vl97c8JrK5vt",
        "outputId": "97a1fa6b-6440-4b70-ada4-8961f094d5ec"
      },
      "source": [
        "pio_zajecia.ile_zajec"
      ],
      "execution_count": null,
      "outputs": [
        {
          "output_type": "execute_result",
          "data": {
            "text/plain": [
              "4"
            ]
          },
          "metadata": {
            "tags": []
          },
          "execution_count": 32
        }
      ]
    },
    {
      "cell_type": "code",
      "metadata": {
        "id": "pZzwfaWWK5v2",
        "outputId": "f9605565-3216-443a-99f4-82c567686f8b"
      },
      "source": [
        "print(pio_zajecia)"
      ],
      "execution_count": null,
      "outputs": [
        {
          "output_type": "stream",
          "text": [
            "W dzien piatek mam zajecia: piateczek, praca domowa z mispow, Ilovemispy, mispy w czasie snu\n"
          ],
          "name": "stdout"
        }
      ]
    },
    {
      "cell_type": "code",
      "metadata": {
        "id": "qnck7k8GK5wD",
        "outputId": "0a0a00ce-045f-4f5b-d4a3-9cb105c2c885"
      },
      "source": [
        "pio_zajecia.lista_zajec"
      ],
      "execution_count": null,
      "outputs": [
        {
          "output_type": "execute_result",
          "data": {
            "text/plain": [
              "['piateczek', 'praca domowa z mispow', 'Ilovemispy', 'mispy w czasie snu']"
            ]
          },
          "metadata": {
            "tags": []
          },
          "execution_count": 33
        }
      ]
    },
    {
      "cell_type": "code",
      "metadata": {
        "id": "7LR6ysCqK5wr",
        "outputId": "f6d2864f-f2d9-41ed-e0cd-7118a16ebda9"
      },
      "source": [
        "pio_zajecia.lista_zajec.append(\"MISP\")\n",
        "print(pio_zajecia.lista_zajec)"
      ],
      "execution_count": null,
      "outputs": [
        {
          "output_type": "stream",
          "text": [
            "['piateczek', 'praca domowa z mispow', 'Ilovemispy', 'mispy w czasie snu', 'MISP']\n"
          ],
          "name": "stdout"
        }
      ]
    },
    {
      "cell_type": "code",
      "metadata": {
        "id": "0mJV8lsJK5wz",
        "outputId": "8e704d09-8867-464a-dbc9-b6f70010e321"
      },
      "source": [
        "pio_zajecia.ile_mispow()"
      ],
      "execution_count": null,
      "outputs": [
        {
          "output_type": "execute_result",
          "data": {
            "text/plain": [
              "4"
            ]
          },
          "metadata": {
            "tags": []
          },
          "execution_count": 35
        }
      ]
    },
    {
      "cell_type": "code",
      "metadata": {
        "id": "tFueuy07K5w8",
        "outputId": "cc97b2d4-8488-47fd-b176-1dc5c59dd673"
      },
      "source": [
        "print(pio_zajecia.lista_zajec)\n"
      ],
      "execution_count": null,
      "outputs": [
        {
          "output_type": "stream",
          "text": [
            "['piateczek', 'praca domowa z mispow', 'Ilovemispy', 'mispy w czasie snu', 'MISP']\n"
          ],
          "name": "stdout"
        }
      ]
    },
    {
      "cell_type": "code",
      "metadata": {
        "id": "JgGHMiXbK5xC",
        "outputId": "d3b3f957-ed49-4989-b0ea-c1a537997cbd"
      },
      "source": [
        "pio_zajecia"
      ],
      "execution_count": null,
      "outputs": [
        {
          "output_type": "execute_result",
          "data": {
            "text/plain": [
              "W dzien piatek mam zajecia: piateczek, praca domowa z mispow, Ilovemispy, mispy w czasie snu, MISP"
            ]
          },
          "metadata": {
            "tags": []
          },
          "execution_count": 85
        }
      ]
    },
    {
      "cell_type": "code",
      "metadata": {
        "id": "yCKSPpJGK5xL",
        "outputId": "8a2aad81-37ab-42ca-abff-e5df4674df7e"
      },
      "source": [
        "print(pio_zajecia.ile_zajec)"
      ],
      "execution_count": null,
      "outputs": [
        {
          "output_type": "stream",
          "text": [
            "5\n"
          ],
          "name": "stdout"
        }
      ]
    },
    {
      "cell_type": "code",
      "metadata": {
        "id": "4_tynGdZK5xS"
      },
      "source": [
        "lista_zajec= [DzienZajec(lista_dzien, dzien) for lista_dzien, dzien in \n",
        "             zip(zajecia,dnityg)]"
      ],
      "execution_count": null,
      "outputs": []
    },
    {
      "cell_type": "code",
      "metadata": {
        "id": "TBYT0imyK5xV",
        "outputId": "14556bd5-466a-4dc9-87c3-997bc1d10571"
      },
      "source": [
        "print(lista_zajec)"
      ],
      "execution_count": null,
      "outputs": [
        {
          "output_type": "stream",
          "text": [
            "[W dzien Pon mam zajecia: wf, W dzien Wto mam zajecia: informatyka, nauka czytania, W dzien Sro mam zajecia: relax, jedzenie, W dzien Czwar mam zajecia: mispy, mispy w domu, W dzien Pio mam zajecia: piateczek, praca domowa z mispow, Ilovemispy, mispy w czasie snu]\n"
          ],
          "name": "stdout"
        }
      ]
    },
    {
      "cell_type": "code",
      "metadata": {
        "id": "OXlsjCcrK5xb"
      },
      "source": [
        "posortowane_po_zajeciach=sorted(lista_zajec, key= lambda zajecie: zajecie.ile_zajec)\n",
        "posortowane_po_mispach=sorted(lista_zajec, key= lambda zajecie: zajecie.ile_mispow())"
      ],
      "execution_count": null,
      "outputs": []
    },
    {
      "cell_type": "code",
      "metadata": {
        "id": "EG4T4UmDK5xe",
        "outputId": "9be5be13-66d4-4dc8-c753-f0c53a91df69"
      },
      "source": [
        "print(posortowane_po_zajeciach)"
      ],
      "execution_count": null,
      "outputs": [
        {
          "output_type": "stream",
          "text": [
            "[W dzien Pon mam zajecia: wf, W dzien Wto mam zajecia: informatyka, nauka czytania, W dzien Sro mam zajecia: relax, jedzenie, W dzien Czwar mam zajecia: mispy, mispy w domu, W dzien Pio mam zajecia: piateczek, praca domowa z mispow, Ilovemispy, mispy w czasie snu]\n"
          ],
          "name": "stdout"
        }
      ]
    },
    {
      "cell_type": "code",
      "metadata": {
        "id": "9khS9_D2K5xh",
        "outputId": "0580a668-2fc5-4fc7-c234-495b90ef70ee"
      },
      "source": [
        "print(posortowane_po_mispach)"
      ],
      "execution_count": null,
      "outputs": [
        {
          "output_type": "stream",
          "text": [
            "[W dzien Pon mam zajecia: wf, W dzien Wto mam zajecia: informatyka, nauka czytania, W dzien Sro mam zajecia: relax, jedzenie, W dzien Czwar mam zajecia: mispy, mispy w domu, W dzien Pio mam zajecia: piateczek, praca domowa z mispow, Ilovemispy, mispy w czasie snu]\n"
          ],
          "name": "stdout"
        }
      ]
    },
    {
      "cell_type": "markdown",
      "metadata": {
        "id": "nRrPQ3VvK5xk"
      },
      "source": [
        "##### challenge 1\n",
        "\n",
        "Stworz typ NumerTelefonu\n",
        "\n",
        " -- przy tworzeniu sprawdza czy właściwy numer (Polski) jeśli nie pisze, że error (ew. Exception)\n",
        " \n",
        " -- gdy printuję to mi pisze polskimi słowami i.e. \"jeden, pięć, siedem, zero\"\n",
        " \n",
        " -- gdy wywołuję właściwość wojewodzwtwo, podaje mi wojewodztwo ew. ze to komorkowy\n",
        " \n",
        "\n",
        "\n",
        "```\n",
        "# ma na takie rzeczy być w stanie odpowiedzieć\n",
        "\n",
        "numer_lodz = NumerTelefonu(\"426877868\")\n",
        ">>> \"prawidlowy numer\"\n",
        "\n",
        "numer_lodz.wojewodztwo \n",
        ">>> \"Lodz\"\n",
        "\n",
        "print(numer_lodz)\n",
        ">>> \"cztery dwa sześć osiem siedem siedem osiem sześć osiem\"\n",
        "```\n",
        "\n",
        "\n",
        " "
      ]
    },
    {
      "cell_type": "code",
      "metadata": {
        "id": "oL7aD01uO-cX",
        "colab": {
          "base_uri": "https://localhost:8080/",
          "height": 122
        },
        "outputId": "0f150508-7253-4347-d9c3-015b574c6eca"
      },
      "source": [
        "class NumerTelefonu():\n",
        "  slownik_kierunkowe = {\"Kraków\":12, \"Krosno\":13, \"Tarnów\":14, \"Tarnobrzeg\":15, \"Przemyśl\":16, \"Rzeszów\":17, \"Nowy Sącz\":18,\n",
        "                       \"Warszawa\":22, \"Ciechanów\":23, \"Płock\":24, \"Siedlce\":25, \"Ostrołęka\":29, \"Katowice\":32, \"Bielsko-Biała\":33,\n",
        "                       \"Częstochowa\":34, \"Kielce\":41, \"Łódź\":42, \"Sieradz\":43, \"Piotrków Trybunalski\":44, \"Skierniewice\": 46, \"Radom\":48,\n",
        "                       \"Bydgoszcz\":52, \"Włocławek\":54, \"Elbląg\":55, \"Toruń\":56, \"Gdańsk\":58, \"Słupsk\":59, \"Poznań\":61, \"Kalisz\":62,\n",
        "                       \"Konin\":63, \"Leszno\":65, \"Piła\":67, \"Zielona Góra\":68, \"Wrocław\":71, \"Wałbrzych\":74, \"Jelenia Góra\":75, \"Legnica\":76,\n",
        "                       \"Opole\":77, \"Lublin\":81, \"Chełm\":82, \"Bielsko-Biała\":83, \"Zamość\":84, \"Białystok\":85, \"Łomża\":86, \"Suwałki\":87,\n",
        "                       \"Olsztyn\":89, \"Szczecin\":91, \"Koszalin\":94, \"Gorzów Wielkopolski\":95} #klucz:wartość\n",
        "\n",
        "  slownik_literuj = {'1': \"jeden\", '2': \"dwa\", '3': \"trzy\", '4': \"cztery\", '5': \"pięć\", '6': \"sześć\",\n",
        "                    '7': \"siedem\", '8': \"osiem\", '9': \"dziewięć\", '0': \"zero\"} #klucz:wartość\n",
        "\n",
        "  def __init__(self, podany_numer): #self musi być zawsze, podany_numer - must have do wpisania (dlatego, że jest w __init__)\n",
        "    if len(podany_numer) == 9 and podany_numer.isdigit(): #stacjonarny i komórkowy mają po 9 cyfr oraz sprawdzam, czy są to cyfry\n",
        "      self.numer = podany_numer #self. bo do samego siebie w tej klasie będzie sie odnosiło\n",
        "      print(\"Podano poprawny numer: {}\".format(self.numer))\n",
        "    else:\n",
        "      print(\"Błąd! Popraw numer telefonu! Wpisano: {}\".format(podany_numer))\n",
        "\n",
        "  def wojewodztwo(self):\n",
        "    for miasto, kierunkowy in self.slownik_kierunkowe.items(): #obsługujemy słownik\n",
        "      if str(kierunkowy) == self.numer[:2]: #[:2] - pierwsze dwie cyfry numeru, ale z racji że numer to string, to trzeba było \"zrzutować\" kierunkowy na string\n",
        "        print(\"Numer: {}, jeżeli jest to stacjonarny, to znajduje się w okolicy miasta: {}\".format(self.numer,miasto))\n",
        "        #Problem by rozróżnić np. 712 123 123 (podany bez spacji oczywiście) a 71 123 12 12 (także bez spacji) - pierwszy komórka zaczyna się na 71, drugi stacjonarny Wrocław\n",
        "        #Pewnie możnaby się bawić w regex ale byłoby dużo przypadków do rozpisania\n",
        "\n",
        "  def __repr__(self): #\"podmienia\" print\n",
        "    return \" \".join(map(lambda x : self.slownik_literuj[x], str(self.numer))) #zwróć \" \" i połącz (wyjaśnienie nawiasu poniżej) \n",
        "    # map - wykonanie funkcji (lambda...) dla każdego elementu str(self.numer)\n",
        "    # lambda dla argumentu x zwróć słownik[x] (wartość - czyli słownie cyfrę), gdzie x to cyfra z str(self.numer)\n",
        "\n",
        "#######################################################################################################\n",
        "\n",
        "# Przykłady działania (& debugging)\n",
        "numerkom = NumerTelefonu(\"737491274\") #komórkowy\n",
        "numersta = NumerTelefonu(\"426877868\") #stacjonarny\n",
        "numerzly = NumerTelefonu(\"7374912744\") #zły (za długi) \n",
        "numerzly2 = NumerTelefonu(\"73749127.\") #zły (z kropką zamiast cyfry)\n",
        "\n",
        "numerkom.wojewodztwo()\n",
        "numersta.wojewodztwo()\n",
        "\n",
        "print(numerkom)"
      ],
      "execution_count": null,
      "outputs": [
        {
          "output_type": "stream",
          "text": [
            "Podano poprawny numer: 737491274\n",
            "Podano poprawny numer: 426877868\n",
            "Błąd! Popraw numer telefonu! Wpisano: 7374912744\n",
            "Błąd! Popraw numer telefonu! Wpisano: 73749127.\n",
            "Numer: 426877868, jeżeli jest to stacjonarny, to znajduje się w okolicy miasta: Łódź\n",
            "siedem trzy siedem cztery dziewięć jeden dwa siedem cztery\n"
          ],
          "name": "stdout"
        }
      ]
    }
  ]
}