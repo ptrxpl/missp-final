{
  "nbformat": 4,
  "nbformat_minor": 0,
  "metadata": {
    "kernelspec": {
      "display_name": "Python 3",
      "language": "python",
      "name": "python3"
    },
    "language_info": {
      "codemirror_mode": {
        "name": "ipython",
        "version": 3
      },
      "file_extension": ".py",
      "mimetype": "text/x-python",
      "name": "python",
      "nbconvert_exporter": "python",
      "pygments_lexer": "ipython3",
      "version": "3.7.3"
    },
    "colab": {
      "name": "zajecia 1.ipynb",
      "provenance": [],
      "collapsed_sections": []
    }
  },
  "cells": [
    {
      "cell_type": "code",
      "metadata": {
        "id": "VD4zcRmLxsVU",
        "colab": {
          "base_uri": "https://localhost:8080/"
        },
        "outputId": "43e935ec-ca98-4339-c6e6-f73fc876579d"
      },
      "source": [
        "# komentarz\n",
        "\n",
        "# if\n",
        "\n",
        "wielkosc = 5\n",
        "\n",
        "print(wielkosc)"
      ],
      "execution_count": null,
      "outputs": [
        {
          "output_type": "stream",
          "text": [
            "5\n"
          ],
          "name": "stdout"
        }
      ]
    },
    {
      "cell_type": "code",
      "metadata": {
        "id": "Cd1e0EY2xsVu",
        "colab": {
          "base_uri": "https://localhost:8080/"
        },
        "outputId": "51229d4e-b28b-45d1-b1f0-968e06d3f0ab"
      },
      "source": [
        "if wielkosc >6:\n",
        "    print(\"ale duze\")\n",
        "elif wielkosc < 3:\n",
        "    print(\"malutkie\")\n",
        "    print('franek')\n",
        "else:\n",
        "    print(\"w sam raz\")"
      ],
      "execution_count": null,
      "outputs": [
        {
          "output_type": "stream",
          "text": [
            "w sam raz\n"
          ],
          "name": "stdout"
        }
      ]
    },
    {
      "cell_type": "code",
      "metadata": {
        "id": "Rb0DWU1KxsV6",
        "colab": {
          "base_uri": "https://localhost:8080/",
          "height": 34
        },
        "outputId": "aa423da0-5ea0-47d2-f4eb-3faee44dcd77"
      },
      "source": [
        "studenci = [\"Ania\", \"Zosia\", \"Kasia\", \"Franek\"]\n",
        "\n",
        "print(studenci)"
      ],
      "execution_count": null,
      "outputs": [
        {
          "output_type": "stream",
          "text": [
            "['Ania', 'Zosia', 'Kasia', 'Franek']\n"
          ],
          "name": "stdout"
        }
      ]
    },
    {
      "cell_type": "code",
      "metadata": {
        "id": "zRIyVrP0xsWE",
        "colab": {
          "base_uri": "https://localhost:8080/",
          "height": 35
        },
        "outputId": "206a086e-f9f7-4448-90d7-b09ef85572fd"
      },
      "source": [
        "studenci[0]"
      ],
      "execution_count": null,
      "outputs": [
        {
          "output_type": "execute_result",
          "data": {
            "application/vnd.google.colaboratory.intrinsic+json": {
              "type": "string"
            },
            "text/plain": [
              "'Ania'"
            ]
          },
          "metadata": {
            "tags": []
          },
          "execution_count": 8
        }
      ]
    },
    {
      "cell_type": "code",
      "metadata": {
        "scrolled": true,
        "id": "0U-6pNETxsWO",
        "colab": {
          "base_uri": "https://localhost:8080/",
          "height": 175
        },
        "outputId": "c5b131c7-c321-433d-a606-50a212148fc5"
      },
      "source": [
        "for student in studenci:\n",
        "    print(\"student ma na imie:\", student)\n",
        "    \n",
        "for student in studenci:\n",
        "    print(student)\n",
        "    if student[0]==\"A\":\n",
        "        print(\"student na poczatku alfabetu\")"
      ],
      "execution_count": null,
      "outputs": [
        {
          "output_type": "stream",
          "text": [
            "student ma na imie: Ania\n",
            "student ma na imie: Zosia\n",
            "student ma na imie: Kasia\n",
            "student ma na imie: Franek\n",
            "Ania\n",
            "student na poczatku alfabetu\n",
            "Zosia\n",
            "Kasia\n",
            "Franek\n"
          ],
          "name": "stdout"
        }
      ]
    },
    {
      "cell_type": "code",
      "metadata": {
        "id": "cTAvyBP5xsWX",
        "colab": {
          "base_uri": "https://localhost:8080/",
          "height": 87
        },
        "outputId": "a3651041-2660-45ee-b3fb-baa23ff086bb"
      },
      "source": [
        "for numer, student in enumerate(studenci):\n",
        "    print(\"student {} ma numer {}\".format(student,numer))"
      ],
      "execution_count": null,
      "outputs": [
        {
          "output_type": "stream",
          "text": [
            "student Ania ma numer 0\n",
            "student Zosia ma numer 1\n",
            "student Kasia ma numer 2\n",
            "student Franek ma numer 3\n"
          ],
          "name": "stdout"
        }
      ]
    },
    {
      "cell_type": "code",
      "metadata": {
        "id": "HTt1r9XExsWj",
        "outputId": "62066ba8-0ab2-4459-e88d-e91cd46837ac"
      },
      "source": [
        "oceny = [2,2,5,3]\n",
        "\n",
        "for numer, student in enumerate(studenci):\n",
        "    print(\"student {} ma numer {} i ocenę {}\".format(student,numer,oceny[numer]))\n",
        "\n",
        "print(\"--\"*20)    \n",
        "for number, (student, ocena) in enumerate(zip(studenci,oceny)):\n",
        "    print(\"student {} ma numer {} i ocenę {}\".format(student,number,ocena))"
      ],
      "execution_count": null,
      "outputs": [
        {
          "output_type": "stream",
          "text": [
            "student Ania ma numer 0 i ocenę 2\n",
            "student Zosia ma numer 1 i ocenę 2\n",
            "student Kasia ma numer 2 i ocenę 5\n",
            "student Franek ma numer 3 i ocenę 3\n",
            "----------------------------------------\n",
            "student Ania ma numer 0 i ocenę 2\n",
            "student Zosia ma numer 1 i ocenę 2\n",
            "student Kasia ma numer 2 i ocenę 5\n",
            "student Franek ma numer 3 i ocenę 3\n"
          ],
          "name": "stdout"
        }
      ]
    },
    {
      "cell_type": "code",
      "metadata": {
        "id": "wxk4Uk6exsWt"
      },
      "source": [
        "trzy_elementy= [1,2,3]\n",
        "pierwszy,drugi,trzeci= trzy_elementy"
      ],
      "execution_count": null,
      "outputs": []
    },
    {
      "cell_type": "code",
      "metadata": {
        "id": "jYOPkk5JxsXB",
        "outputId": "7696f805-6da7-4fc6-d8c9-31c93f7a3072"
      },
      "source": [
        "n = 1\n",
        "\n",
        "while(n < 10):\n",
        "    print(n)\n",
        "    n+=1"
      ],
      "execution_count": null,
      "outputs": [
        {
          "output_type": "stream",
          "text": [
            "1\n",
            "2\n",
            "3\n",
            "4\n",
            "5\n",
            "6\n",
            "7\n",
            "8\n",
            "9\n"
          ],
          "name": "stdout"
        }
      ]
    },
    {
      "cell_type": "code",
      "metadata": {
        "id": "5T0ORhtwxsXU"
      },
      "source": [
        "def dodaj_dwa(liczba):\n",
        "    return liczba+2\n",
        "\n",
        "def dodaj_trzy(liczba):\n",
        "    return liczba+3\n",
        "\n",
        "def dodaj_dwie_liczby(liczba1,liczba2)\n",
        "    return liczba1+liczba2\n",
        "\n",
        "\n",
        "dodaj_cztery = lambda liczba:liczba+4"
      ],
      "execution_count": null,
      "outputs": []
    },
    {
      "cell_type": "code",
      "metadata": {
        "id": "RndFwbPzxsXb",
        "outputId": "9a576bb3-f1c6-42cf-a705-3163304628f9"
      },
      "source": [
        "funkcje=[dodaj_dwa,dodaj_trzy,dodaj_cztery]\n",
        "\n",
        "jakis_nr= 10\n",
        "\n",
        "for funkcja in funkcje:\n",
        "    print(funkcja(jakis_nr))"
      ],
      "execution_count": null,
      "outputs": [
        {
          "output_type": "stream",
          "text": [
            "12\n",
            "13\n",
            "14\n"
          ],
          "name": "stdout"
        }
      ]
    },
    {
      "cell_type": "code",
      "metadata": {
        "id": "ACXQKAQxxsXp",
        "colab": {
          "base_uri": "https://localhost:8080/",
          "height": 34
        },
        "outputId": "5f9f0d71-fd22-4afa-93a7-70923b569808"
      },
      "source": [
        "studenci[0]\n",
        "studenci[1:]\n",
        "studenci[:-1]"
      ],
      "execution_count": null,
      "outputs": [
        {
          "output_type": "execute_result",
          "data": {
            "text/plain": [
              "['Ania', 'Zosia', 'Kasia']"
            ]
          },
          "metadata": {
            "tags": []
          },
          "execution_count": 101
        }
      ]
    },
    {
      "cell_type": "markdown",
      "metadata": {
        "id": "ljymeA_OXvY3"
      },
      "source": [
        ""
      ]
    },
    {
      "cell_type": "markdown",
      "metadata": {
        "id": "9qh--SOoXdln"
      },
      "source": [
        "# Challange 1.1\r\n",
        "1. Wyprintuj zajęcia od środy do piątku\r\n"
      ]
    },
    {
      "cell_type": "code",
      "metadata": {
        "id": "prV97ZYZxsXz"
      },
      "source": [
        "zajecia = [\"wf\",\"informatyka\",\"relax\",\"mispy\",\"piateczek\"]\n",
        "\n",
        "dnityg= [\"Pon\",\"Wto\",\"Sro\",\"Czwar\",\"Pio\"]"
      ],
      "execution_count": 13,
      "outputs": []
    },
    {
      "cell_type": "code",
      "metadata": {
        "id": "nqBFQ5Tk6XQw",
        "colab": {
          "base_uri": "https://localhost:8080/"
        },
        "outputId": "66577fcf-701d-4a99-8e4a-a9dc5e7db189"
      },
      "source": [
        "razem = zip(zajecia, dnityg) # zip laczy razem \n",
        "for nr_dnia, (zaj, dt) in enumerate(razem):\n",
        "    if nr_dnia >= 2:\n",
        "      print(zaj, dt)\n",
        "        "
      ],
      "execution_count": 14,
      "outputs": [
        {
          "output_type": "stream",
          "text": [
            "relax Sro\n",
            "mispy Czwar\n",
            "piateczek Pio\n"
          ],
          "name": "stdout"
        }
      ]
    },
    {
      "cell_type": "markdown",
      "metadata": {
        "id": "XTl4PpKPYcgv"
      },
      "source": [
        "# Challenge 1.2\r\n",
        "2. Wyprintuj oprócz środy"
      ]
    },
    {
      "cell_type": "code",
      "metadata": {
        "id": "NrtGnPiBcBXI"
      },
      "source": [
        "zajecia = [\"wf\",\"informatyka\",\"relax\",\"mispy\",\"piateczek\"]\r\n",
        "\r\n",
        "dnityg= [\"Pon\",\"Wto\",\"Sro\",\"Czwar\",\"Pio\"]"
      ],
      "execution_count": 15,
      "outputs": []
    },
    {
      "cell_type": "code",
      "metadata": {
        "id": "048CLfPO8c6y",
        "colab": {
          "base_uri": "https://localhost:8080/"
        },
        "outputId": "3574c633-323a-436c-f671-3a73144b837d"
      },
      "source": [
        "razem = zip(zajecia, dnityg)\n",
        "for zaj, dt in razem:\n",
        "  if dt != \"Sro\":\n",
        "    print(zaj, dt)"
      ],
      "execution_count": 16,
      "outputs": [
        {
          "output_type": "stream",
          "text": [
            "wf Pon\n",
            "informatyka Wto\n",
            "mispy Czwar\n",
            "piateczek Pio\n"
          ],
          "name": "stdout"
        }
      ]
    },
    {
      "cell_type": "markdown",
      "metadata": {
        "id": "wzbJIkShcgR2"
      },
      "source": [
        "# Challange 2\r\n",
        "Posortuj dni po najbardziej zajętych\r\n"
      ]
    },
    {
      "cell_type": "code",
      "metadata": {
        "id": "GRq5TRerxsX8",
        "colab": {
          "base_uri": "https://localhost:8080/"
        },
        "outputId": "c2e28c36-dc76-482f-e868-355981ad5acd"
      },
      "source": [
        "#### challenge 0.2\n",
        "\n",
        "zajecia = [[\"wf\"],[\"informatyka\", \"nauka czytania\"],[\"relax\", \"jedzenie\"],[\"mispy\",\"mispy w domu\",\"cos-co-nie-jest-wiadomo-czym-na-test\"],[\"piateczek\", \"praca domowa z mispow\", \"Ilovemispy\", \"mispy w czasie snu\"]]\n",
        "dnityg = [\"Pon\",\"Wto\",\"Sro\",\"Czwar\",\"Pio\"]\n",
        "\n",
        "# zdefiniuj funkcje ktora poda ile jest zajec danego dnia\n",
        "# lista_zajec_z_dnia -> ile ich jest\n",
        "\n",
        "do_sortowania = [] # nowa lista do kolejnego zadania\n",
        "\n",
        "def lista_zajec_z_dnia():\n",
        "  a = 0 # iterator\n",
        "  for i in zajecia: # nie wykorzystujemy tego i, ale sama petla for jest potrzebna\n",
        "    print(\"W {} jest {} zajec.\".format(dnityg[a],len(zajecia[a]))) # albo zajecia2[:]\n",
        "    do_sortowania.append([dnityg[a],len(zajecia[a])]) # do zadania nizej, by sortowac, append dodaje na koncu listy\n",
        "    #print(do_sortowania) #print for debug\n",
        "    a += 1 \n",
        "\n",
        "lista_zajec_z_dnia()\n",
        "print(\"-\" * 20)\n",
        "\n",
        "# ewentualnie mozna to zrobic przez len(), ten challange wyżej\n",
        "\n",
        "# posortuj dni po najbardziej zajetych\n",
        "\n",
        "# skorzystam z lambdy -> lambda arguments : expressions\n",
        "# x = lambda a : a + 10\n",
        "# print(x(5)) # wydrukuje 5\n",
        "\n",
        "posortowana_lista = sorted(do_sortowania, key = lambda x : x[1], reverse = True)\n",
        "print(posortowana_lista) #mozna to ew. ladniej sformatowac, ale ogolnie dziala\n",
        "print(\"-\" * 20)"
      ],
      "execution_count": 17,
      "outputs": [
        {
          "output_type": "stream",
          "text": [
            "W Pon jest 1 zajec.\n",
            "W Wto jest 2 zajec.\n",
            "W Sro jest 2 zajec.\n",
            "W Czwar jest 3 zajec.\n",
            "W Pio jest 4 zajec.\n",
            "--------------------\n",
            "[['Pio', 4], ['Czwar', 3], ['Wto', 2], ['Sro', 2], ['Pon', 1]]\n",
            "--------------------\n"
          ],
          "name": "stdout"
        }
      ]
    },
    {
      "cell_type": "markdown",
      "metadata": {
        "id": "c3IAc-j7iIfv"
      },
      "source": [
        "# Challange 3\r\n",
        "Napisz program ktory znajdzie dzien z najwieksza iloscia mispow.\r\n",
        "\r\n",
        "**Aby kod zadziałał, należy uruchomić najpierw challange 2**"
      ]
    },
    {
      "cell_type": "code",
      "metadata": {
        "colab": {
          "base_uri": "https://localhost:8080/"
        },
        "id": "XQU9Iz2viHsH",
        "outputId": "b5dfbe9c-3644-476e-9f73-e5f07d45d752"
      },
      "source": [
        "#### challenge 0.3\r\n",
        "\r\n",
        "# napisz program ktory zdajdzie dzien z najwieksza iloscia mispow\r\n",
        "\r\n",
        "polaczone = zip(dnityg,zajecia)\r\n",
        "lista_do_max = [] \r\n",
        "a=0 #iterator\r\n",
        "\r\n",
        "for liczba_z_enumerate, (dzientyg, zajeciatyg) in enumerate(polaczone):\r\n",
        "  for x in zajeciatyg:\r\n",
        "    if \"misp\" in x: #jezeli jest \"misp\" w zajeciatyg\r\n",
        "      a += 1 #dodaj do licznika +1\r\n",
        "  lista_do_max.append(a) #dodaj do konca listy ilosc naliczonych mispow\r\n",
        "  a = 0 #reset licznika mispow\r\n",
        "  print(lista_do_max)\r\n",
        "  print(\"W dzien {} | nr listy {} | sa przedmioty {}\".format(dzientyg,liczba_z_enumerate,zajeciatyg))\r\n",
        "gotowe = zip(dnityg,lista_do_max) #zlacz razem dni oraz liczbe zliczonych mispow\r\n",
        "sortedch3 = sorted(gotowe, key = lambda x : x[1], reverse = True) # sortuj po liczbie zliczonych mispow // ewentualnie to sortowanie mozna dac jako funkcja, bo sie powtarza\r\n",
        "print(sortedch3) #mozna to ew. ladniej sformatowac, ale ogolnie dziala\r\n",
        "print(sortedch3[0]) #pokaz 1szy element z listy, tj najwieksza ilosc mispow"
      ],
      "execution_count": 18,
      "outputs": [
        {
          "output_type": "stream",
          "text": [
            "[0]\n",
            "W dzien Pon | nr listy 0 | sa przedmioty ['wf']\n",
            "[0, 0]\n",
            "W dzien Wto | nr listy 1 | sa przedmioty ['informatyka', 'nauka czytania']\n",
            "[0, 0, 0]\n",
            "W dzien Sro | nr listy 2 | sa przedmioty ['relax', 'jedzenie']\n",
            "[0, 0, 0, 2]\n",
            "W dzien Czwar | nr listy 3 | sa przedmioty ['mispy', 'mispy w domu', 'cos-co-nie-jest-wiadomo-czym-na-test']\n",
            "[0, 0, 0, 2, 3]\n",
            "W dzien Pio | nr listy 4 | sa przedmioty ['piateczek', 'praca domowa z mispow', 'Ilovemispy', 'mispy w czasie snu']\n",
            "[('Pio', 3), ('Czwar', 2), ('Pon', 0), ('Wto', 0), ('Sro', 0)]\n",
            "('Pio', 3)\n"
          ],
          "name": "stdout"
        }
      ]
    },
    {
      "cell_type": "code",
      "metadata": {
        "id": "9nRBAE_uxsYF",
        "colab": {
          "base_uri": "https://localhost:8080/"
        },
        "outputId": "75896497-0e2e-4df6-b6a3-1365cf917212"
      },
      "source": [
        "len(zajecia)\n",
        "\n",
        "zajecia[4][1]\n",
        "\n",
        "\"Ma\" in \"MojaMaMa\"\n",
        "\n",
        "liczby=[\"22\",\"11\",\"33\",\"100\"]\n",
        "liczby_i_nazwy= [(\"22\",\"dwadziescia dwa\"),(\"11\",\"jedenascie\"),(\"33\",\"trzydziesci trzy\"),(\"100\",\"sto\")]\n",
        "sorted(liczby)\n",
        "\n",
        "sorted(liczby, key=int)\n",
        "\n",
        "liczby_kolejnosc= enumerate(liczby)\n",
        "\n",
        "def czy_jest_jeden(liczba):\n",
        "\n",
        "    if \"1\" in liczba:\n",
        "        return 1\n",
        "    else:\n",
        "        return 0\n",
        "def na_liczbe(krotka):\n",
        "         return int(krotka[0])\n",
        "def na_liczbe_index(krotka):\n",
        "         return int(krotka[1])    \n",
        "sorted(liczby, key=czy_jest_jeden)\n",
        "         \n",
        "sorted(liczby_i_nazwy,key=na_liczbe)\n",
        "\n",
        "sorted(liczby_kolejnosc,key=na_liczbe_index)\n"
      ],
      "execution_count": null,
      "outputs": [
        {
          "output_type": "execute_result",
          "data": {
            "text/plain": [
              "[(1, '11'), (0, '22'), (2, '33'), (3, '100')]"
            ]
          },
          "metadata": {
            "tags": []
          },
          "execution_count": 53
        }
      ]
    },
    {
      "cell_type": "code",
      "metadata": {
        "id": "SKN5VsMCxsYY"
      },
      "source": [
        ""
      ],
      "execution_count": null,
      "outputs": []
    }
  ]
}